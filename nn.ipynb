{
 "cells": [
  {
   "cell_type": "markdown",
   "id": "b304a077ea7bca1f",
   "metadata": {},
   "source": [
    "# Heartbeat Prediction\n"
   ]
  },
  {
   "cell_type": "code",
   "execution_count": 15,
   "id": "60bec47d016af8bd",
   "metadata": {
    "ExecuteTime": {
     "end_time": "2024-11-29T03:30:03.946508Z",
     "start_time": "2024-11-29T03:30:03.786519Z"
    }
   },
   "outputs": [
    {
     "name": "stdout",
     "output_type": "stream",
     "text": [
      "True\n",
      "cuda:1\n",
      "Tue Dec  3 03:54:20 2024       \n",
      "+---------------------------------------------------------------------------------------+\n",
      "| NVIDIA-SMI 535.86.05              Driver Version: 535.86.05    CUDA Version: 12.2     |\n",
      "|-----------------------------------------+----------------------+----------------------+\n",
      "| GPU  Name                 Persistence-M | Bus-Id        Disp.A | Volatile Uncorr. ECC |\n",
      "| Fan  Temp   Perf          Pwr:Usage/Cap |         Memory-Usage | GPU-Util  Compute M. |\n",
      "|                                         |                      |               MIG M. |\n",
      "|=========================================+======================+======================|\n",
      "|   0  NVIDIA GeForce RTX 3090        Off | 00000000:AF:00.0 Off |                  N/A |\n",
      "| 30%   23C    P8              25W / 350W |  12458MiB / 24576MiB |      0%      Default |\n",
      "|                                         |                      |                  N/A |\n",
      "+-----------------------------------------+----------------------+----------------------+\n",
      "|   1  NVIDIA GeForce RTX 3090        Off | 00000000:D8:00.0 Off |                  N/A |\n",
      "| 30%   34C    P8              42W / 350W |   1664MiB / 24576MiB |      0%      Default |\n",
      "|                                         |                      |                  N/A |\n",
      "+-----------------------------------------+----------------------+----------------------+\n",
      "                                                                                         \n",
      "+---------------------------------------------------------------------------------------+\n",
      "| Processes:                                                                            |\n",
      "|  GPU   GI   CI        PID   Type   Process name                            GPU Memory |\n",
      "|        ID   ID                                                             Usage      |\n",
      "|=======================================================================================|\n",
      "+---------------------------------------------------------------------------------------+\n"
     ]
    }
   ],
   "source": [
    "import numpy as np\n",
    "import pandas as pd\n",
    "import matplotlib.pyplot as plt\n",
    "import random\n",
    "import gc\n",
    "from colorama import Fore, Style\n",
    "import torch\n",
    "import torch.nn as nn\n",
    "import torch.optim as optim\n",
    "from sklearn.model_selection import train_test_split\n",
    "from torch.utils.data import DataLoader, Dataset\n",
    "from tqdm import tqdm\n",
    "from sklearn.metrics import accuracy_score\n",
    "\n",
    "from imblearn.over_sampling import SMOTE\n",
    "\n",
    "cuda_NO = 1\n",
    "with_SMOTE = True\n",
    "if_train = True\n",
    "fix_rand_seed = 1\n",
    "rand_seed = 37\n",
    "num_epochs = 100\n",
    "batch_size = 256\n",
    "model_save_path = \"best_heartbeat_model.pth\"\n",
    "\n",
    "print(torch.cuda.is_available())\n",
    "device = f\"cuda:{cuda_NO}\" if torch.cuda.is_available() else \"cpu\"\n",
    "print(device)\n",
    "\n",
    "!nvidia-smi"
   ]
  },
  {
   "cell_type": "markdown",
   "id": "cf2899f9",
   "metadata": {},
   "source": [
    "# Preprocessing"
   ]
  },
  {
   "cell_type": "markdown",
   "id": "f3d9cfe4290740b3",
   "metadata": {},
   "source": [
    "## Set random seed"
   ]
  },
  {
   "cell_type": "code",
   "execution_count": 16,
   "id": "8d655b1dfd5ebd4e",
   "metadata": {
    "ExecuteTime": {
     "end_time": "2024-11-29T03:30:03.953171Z",
     "start_time": "2024-11-29T03:30:03.949787Z"
    }
   },
   "outputs": [],
   "source": [
    "def set_rand_seed(seed):\n",
    "    random.seed(seed)\n",
    "    np.random.seed(seed)\n",
    "    torch.manual_seed(seed)\n",
    "    torch.cuda.manual_seed_all(seed)\n",
    "    torch.backends.cudnn.deterministic = True\n",
    "    torch.backends.cudnn.benchmark = False\n",
    "\n",
    "if fix_rand_seed:\n",
    "    set_rand_seed(rand_seed)"
   ]
  },
  {
   "cell_type": "markdown",
   "id": "4b3d3eb318fb0cfc",
   "metadata": {},
   "source": [
    "## Read data"
   ]
  },
  {
   "cell_type": "code",
   "execution_count": 17,
   "id": "4a7dba893520dca1",
   "metadata": {
    "ExecuteTime": {
     "end_time": "2024-11-29T03:30:05.209031Z",
     "start_time": "2024-11-29T03:30:03.962429Z"
    }
   },
   "outputs": [],
   "source": [
    "train_data = pd.read_csv('train.csv', header=0)"
   ]
  },
  {
   "cell_type": "markdown",
   "id": "c87e22912588c9a0",
   "metadata": {},
   "source": [
    "## Check data"
   ]
  },
  {
   "cell_type": "code",
   "execution_count": 18,
   "id": "db4c794f433135e2",
   "metadata": {
    "ExecuteTime": {
     "end_time": "2024-11-29T03:30:05.220746Z",
     "start_time": "2024-11-29T03:30:05.217783Z"
    }
   },
   "outputs": [
    {
     "name": "stdout",
     "output_type": "stream",
     "text": [
      "   id                                  heartbeat_signals  label\n",
      "0   0  0.9912297987616655,0.9435330436439665,0.764677...    0.0\n",
      "1   1  0.9714822034884503,0.9289687459588268,0.572932...    0.0\n",
      "2   2  1.0,0.9591487564065292,0.7013782792997189,0.23...    2.0\n",
      "3   3  0.9757952826275774,0.9340884687738161,0.659636...    0.0\n",
      "4   4  0.0,0.055816398940721094,0.26129357194994196,0...    2.0\n",
      "labels contain: [0. 2. 3. 1.]\n"
     ]
    }
   ],
   "source": [
    "# check the data and labels\n",
    "print(train_data.head())\n",
    "print(f\"labels contain: {train_data['label'].unique()}\")"
   ]
  },
  {
   "cell_type": "code",
   "execution_count": 19,
   "id": "aeea683143cce39e",
   "metadata": {
    "ExecuteTime": {
     "end_time": "2024-11-29T03:30:05.634373Z",
     "start_time": "2024-11-29T03:30:05.239600Z"
    }
   },
   "outputs": [
    {
     "data": {
      "image/png": "[encoded data removed]",
      "text/plain": [
       "<Figure size 1000x200 with 1 Axes>"
      ]
     },
     "metadata": {},
     "output_type": "display_data"
    },
    {
     "data": {
      "image/png": "[encoded data removed]",
      "text/plain": [
       "<Figure size 1000x200 with 1 Axes>"
      ]
     },
     "metadata": {},
     "output_type": "display_data"
    },
    {
     "data": {
      "image/png": "[encoded data removed]",
      "text/plain": [
       "<Figure size 1000x200 with 1 Axes>"
      ]
     },
     "metadata": {},
     "output_type": "display_data"
    },
    {
     "data": {
      "image/png": "[encoded data removed]",
      "text/plain": [
       "<Figure size 1000x200 with 1 Axes>"
      ]
     },
     "metadata": {},
     "output_type": "display_data"
    },
    {
     "data": {
      "image/png": "[encoded data removed]",
      "text/plain": [
       "<Figure size 1000x200 with 1 Axes>"
      ]
     },
     "metadata": {},
     "output_type": "display_data"
    }
   ],
   "source": [
    "def plot_signal(sample_index):\n",
    "    heartbeat_signal = train_data['heartbeat_signals'].iloc[sample_index]\n",
    "    vector = list(map(float, heartbeat_signal.split(',')))\n",
    "\n",
    "    plt.figure(figsize=(10, 2))\n",
    "    plt.plot(vector, label=\"Heartbeat Signal\", color='blue')\n",
    "    plt.title(\"Heartbeat Signal Over Time\")\n",
    "    plt.xlabel(\"Time Steps\")\n",
    "    plt.ylabel(\"Amplitude\")\n",
    "    plt.grid(linestyle='--', alpha=0.6)\n",
    "    plt.legend()\n",
    "    plt.tight_layout()\n",
    "    plt.show()\n",
    "\n",
    "for i in range(5):\n",
    "    plot_signal(i)"
   ]
  },
  {
   "cell_type": "markdown",
   "id": "6379ba66112ac86c",
   "metadata": {},
   "source": [
    "## Preprocessing functions"
   ]
  },
  {
   "cell_type": "code",
   "execution_count": 20,
   "id": "f6602b37bfffad37",
   "metadata": {
    "ExecuteTime": {
     "end_time": "2024-11-29T03:30:05.726213Z",
     "start_time": "2024-11-29T03:30:05.724287Z"
    }
   },
   "outputs": [],
   "source": [
    "# normalization\n",
    "def normalize_signal(signal):\n",
    "    return (signal - np.mean(signal)) / np.std(signal)\n",
    "\n",
    "def to_array(signal):\n",
    "    return np.array(list(map(float, signal.split(','))))\n",
    "\n",
    "# preprocessing\n",
    "def preprocess_signal(signal):\n",
    "    signal = to_array(signal) # this comes first!\n",
    "    # data is already normalized\n",
    "    return signal"
   ]
  },
  {
   "cell_type": "markdown",
   "id": "42dc8312e939094d",
   "metadata": {},
   "source": [
    "## Split with SMOTE"
   ]
  },
  {
   "cell_type": "code",
   "execution_count": 21,
   "id": "5e354f97ebd53a69",
   "metadata": {
    "ExecuteTime": {
     "end_time": "2024-11-29T03:30:08.151543Z",
     "start_time": "2024-11-29T03:30:05.742668Z"
    }
   },
   "outputs": [],
   "source": [
    "if with_SMOTE:\n",
    "    X = train_data['heartbeat_signals']\n",
    "    y = train_data['label']\n",
    "\n",
    "    X = X.apply(preprocess_signal)\n",
    "    y = y.apply(lambda x: int(x))\n",
    "\n",
    "    X_train, X_temp, y_train, y_temp = train_test_split(X, y, test_size=0.2, random_state=rand_seed)\n",
    "    X_val, X_test, y_val, y_test = train_test_split(X_temp, y_temp, test_size=0.5, random_state=rand_seed)\n",
    "\n",
    "    # SMOTE, to vector\n",
    "    X_train_flat = np.array([x.flatten() for x in X_train])\n",
    "    y_train = y_train.values\n",
    "\n",
    "    smote = SMOTE(random_state=rand_seed)\n",
    "    X_train_balanced, y_train_balanced = smote.fit_resample(X_train_flat, y_train)\n",
    "\n",
    "    # recover data to tensor\n",
    "    X_train_balanced = [np.reshape(x, (-1,)) for x in X_train_balanced]\n",
    "\n",
    "    # reset index\n",
    "    X_val = X_val.reset_index(drop=True)\n",
    "    y_val = y_val.reset_index(drop=True)\n",
    "    X_test = X_test.reset_index(drop=True)\n",
    "    y_test = y_test.reset_index(drop=True)"
   ]
  },
  {
   "cell_type": "markdown",
   "id": "c146ea16",
   "metadata": {},
   "source": [
    "## Split without SMOTE"
   ]
  },
  {
   "cell_type": "code",
   "execution_count": 22,
   "id": "4a694c6d",
   "metadata": {},
   "outputs": [],
   "source": [
    "#if not with_SMOTE:\n",
    "if not with_SMOTE:\n",
    "    X = train_data['heartbeat_signals']\n",
    "    y = train_data['label']\n",
    "\n",
    "    X = X.apply(preprocess_signal)\n",
    "    y = y.apply(lambda x: int(x))\n",
    "\n",
    "    X_train, X_temp, y_train, y_temp = train_test_split(X, y, test_size=0.2, random_state=rand_seed)\n",
    "    X_val, X_test, y_val, y_test = train_test_split(X_temp, y_temp, test_size=0.5, random_state=rand_seed)\n",
    "\n",
    "    # reset index\n",
    "    X_train = X_train.reset_index(drop=True)\n",
    "    y_train = y_train.reset_index(drop=True)\n",
    "\n",
    "    X_val = X_val.reset_index(drop=True)\n",
    "    y_val = y_val.reset_index(drop=True)\n",
    "\n",
    "    X_test = X_test.reset_index(drop=True)\n",
    "    y_test = y_test.reset_index(drop=True)"
   ]
  },
  {
   "cell_type": "markdown",
   "id": "0bc09a95",
   "metadata": {},
   "source": [
    "## Data Distribution"
   ]
  },
  {
   "cell_type": "code",
   "execution_count": 23,
   "id": "e983715f",
   "metadata": {},
   "outputs": [
    {
     "name": "stdout",
     "output_type": "stream",
     "text": [
      "Category Distribution Before Balancing:\n",
      "       Count  Percentage(%)\n",
      "label                      \n",
      "0.0    64327         64.327\n",
      "3.0    17912         17.912\n",
      "2.0    14199         14.199\n",
      "1.0     3562          3.562\n"
     ]
    },
    {
     "data": {
      "image/png": "[encoded data removed]",
      "text/plain": [
       "<Figure size 800x500 with 1 Axes>"
      ]
     },
     "metadata": {},
     "output_type": "display_data"
    },
    {
     "name": "stdout",
     "output_type": "stream",
     "text": [
      "Category Distribution After Balancing:\n",
      "   Count  Percentage(%)\n",
      "0  64327           25.0\n",
      "2  64327           25.0\n",
      "3  64327           25.0\n",
      "1  64327           25.0\n"
     ]
    },
    {
     "data": {
      "image/png": "[encoded data removed]",
      "text/plain": [
       "<Figure size 800x500 with 1 Axes>"
      ]
     },
     "metadata": {},
     "output_type": "display_data"
    }
   ],
   "source": [
    "# original data distribution\n",
    "category_counts_original = train_data['label'].value_counts()\n",
    "category_percentages_original = category_counts_original / len(train_data) * 100\n",
    "category_distribution_original = pd.DataFrame({\n",
    "    'Count': category_counts_original,\n",
    "    'Percentage(%)': category_percentages_original\n",
    "})\n",
    "print(\"Category Distribution Before Balancing:\")\n",
    "print(category_distribution_original)\n",
    "\n",
    "# original data visualization\n",
    "plt.figure(figsize=(8, 5))\n",
    "plt.bar(category_counts_original.index, category_counts_original.values, alpha=0.7, color='orange')\n",
    "for idx, val in category_counts_original.items():\n",
    "    plt.text(idx, val + 200, f\"{category_percentages_original[idx]:.1f}%\", ha='center')\n",
    "plt.title('Category Distribution (Before Balancing)')\n",
    "plt.xlabel('Category')\n",
    "plt.ylabel('Count')\n",
    "plt.grid(axis='y', linestyle='--', alpha=0.7)\n",
    "plt.tight_layout()\n",
    "plt.show()\n",
    "\n",
    "# SMOTE\n",
    "X_flat = np.array([x.flatten() for x in X])\n",
    "y = y.values\n",
    "smote = SMOTE(random_state=rand_seed)\n",
    "X_balanced, y_balanced = smote.fit_resample(X_flat, y)\n",
    "\n",
    "# data distribution after SMOTE\n",
    "category_counts_balanced = pd.Series(y_balanced).value_counts()\n",
    "category_percentages_balanced = category_counts_balanced / len(y_balanced) * 100\n",
    "category_distribution_balanced = pd.DataFrame({\n",
    "    'Count': category_counts_balanced,\n",
    "    'Percentage(%)': category_percentages_balanced\n",
    "})\n",
    "print(\"Category Distribution After Balancing:\")\n",
    "print(category_distribution_balanced)\n",
    "\n",
    "# data visualization after SMOTE\n",
    "plt.figure(figsize=(8, 5))\n",
    "plt.bar(category_counts_balanced.index, category_counts_balanced.values, alpha=0.7, color='springgreen')\n",
    "for idx, val in category_counts_balanced.items():\n",
    "    plt.text(idx, val + 200, f\"{category_percentages_balanced[idx]:.1f}%\", ha='center')\n",
    "plt.title('Category Distribution (After Balancing)')\n",
    "plt.xlabel('Category')\n",
    "plt.ylabel('Count')\n",
    "plt.grid(axis='y', linestyle='--', alpha=0.7)\n",
    "plt.tight_layout()\n",
    "plt.show()"
   ]
  },
  {
   "cell_type": "markdown",
   "id": "e4d2fe785faacf0d",
   "metadata": {},
   "source": [
    "## Dataset and dataloader"
   ]
  },
  {
   "cell_type": "code",
   "execution_count": 24,
   "id": "1273c96bd68d7f09",
   "metadata": {
    "ExecuteTime": {
     "end_time": "2024-11-29T03:30:08.164715Z",
     "start_time": "2024-11-29T03:30:08.154757Z"
    }
   },
   "outputs": [],
   "source": [
    "class HeartbeatDataset(Dataset):\n",
    "    def __init__(self, data, labels):\n",
    "        self.data = data\n",
    "        self.labels = labels\n",
    "\n",
    "    def __len__(self):\n",
    "        return len(self.data)\n",
    "\n",
    "    def __getitem__(self, index):\n",
    "        signal = self.data[index]\n",
    "        label = self.labels[index]\n",
    "        # Convert to pytorch tensor, set to float32\n",
    "        signal = torch.tensor(signal, dtype=torch.float32)\n",
    "        label = torch.tensor(label, dtype=torch.long)  # Classification labels should be long\n",
    "        return signal, label\n",
    "    \n",
    "if with_SMOTE:\n",
    "    train_dataset = HeartbeatDataset(X_train_balanced, y_train_balanced)\n",
    "else:\n",
    "    train_dataset = HeartbeatDataset(X_train, y_train)\n",
    "val_dataset = HeartbeatDataset(X_val, y_val)\n",
    "test_dataset = HeartbeatDataset(X_test, y_test)\n",
    "\n",
    "train_loader = DataLoader(train_dataset, batch_size=batch_size, shuffle=True)\n",
    "val_loader = DataLoader(val_dataset, batch_size=batch_size, shuffle=False)\n",
    "test_loader = DataLoader(test_dataset, batch_size=batch_size, shuffle=False)"
   ]
  },
  {
   "cell_type": "markdown",
   "id": "441865da",
   "metadata": {},
   "source": [
    "# Model definition, training and prediction"
   ]
  },
  {
   "cell_type": "markdown",
   "id": "272979ad2f7e5110",
   "metadata": {},
   "source": [
    "## Model\n",
    "We build the classification model based on several famous networks, and added our own adjustment to make use of the task's features.\n",
    "- CNN: extract local feature.\n",
    "- RNN(LSTM): make use of the feature in time dimension.\n",
    "- Attention based networks: 捕捉长距离特征，自动关注对模型当前最重要的部分，同时使用multi-head attention。"
   ]
  },
  {
   "cell_type": "code",
   "execution_count": 25,
   "id": "ba2e77554bb94864",
   "metadata": {
    "ExecuteTime": {
     "end_time": "2024-11-29T03:30:08.174851Z",
     "start_time": "2024-11-29T03:30:08.172118Z"
    }
   },
   "outputs": [],
   "source": [
    "class HeartbeatModel(nn.Module):\n",
    "    def __init__(self, input_size, num_classes, num_layers, dropout):\n",
    "        super(HeartbeatModel, self).__init__()\n",
    "        self.cnn = nn.Sequential(\n",
    "            nn.Conv1d(1, 32, kernel_size=3, stride=1, padding=1),\n",
    "            nn.ReLU(),\n",
    "            nn.MaxPool1d(kernel_size=2),\n",
    "            #nn.Dropout(p=dropout),\n",
    "\n",
    "            #nn.Conv1d(32, 64, kernel_size=3, stride=1, padding=1),\n",
    "            #nn.ReLU(),\n",
    "            #nn.MaxPool1d(kernel_size=2),\n",
    "            #nn.Dropout(p=dropout),\n",
    "\n",
    "            #nn.Conv1d(64, 128, kernel_size=3, stride=1, padding=1),\n",
    "            #nn.ReLU(),\n",
    "            #nn.MaxPool1d(kernel_size=2),\n",
    "            #nn.Dropout(p=dropout),\n",
    "        )\n",
    "        self.rnn = nn.LSTM(input_size=32, hidden_size=64, num_layers=num_layers, batch_first=True, bidirectional=True)\n",
    "        self.attention = nn.MultiheadAttention(embed_dim=64*2, num_heads=4, batch_first=True)\n",
    "        #self.dropout = nn.Dropout(dropout)\n",
    "        self.fc = nn.Linear(64*2, num_classes)\n",
    "\n",
    "    def forward(self, x):\n",
    "        x = x.unsqueeze(1)\n",
    "        x = self.cnn(x)\n",
    "        x = x.permute(0, 2, 1)\n",
    "        x, _ = self.rnn(x)\n",
    "        x, _ = self.attention(x, x, x)\n",
    "        #x = self.dropout(x)\n",
    "        x = x.mean(dim=1)\n",
    "        return self.fc(x)"
   ]
  },
  {
   "cell_type": "markdown",
   "id": "3ee1bb4e3f81235",
   "metadata": {},
   "source": [
    "## Training"
   ]
  },
  {
   "cell_type": "code",
   "execution_count": 26,
   "id": "a3b3ebc703eaed6a",
   "metadata": {
    "ExecuteTime": {
     "end_time": "2024-11-29T03:30:11.437360Z",
     "start_time": "2024-11-29T03:30:08.187126Z"
    }
   },
   "outputs": [
    {
     "name": "stdout",
     "output_type": "stream",
     "text": [
      "Epoch 1/100\n"
     ]
    },
    {
     "name": "stderr",
     "output_type": "stream",
     "text": [
      "Training: 100%|██████████| 804/804 [00:16<00:00, 49.85it/s]\n",
      "Validating: 100%|██████████| 40/40 [00:00<00:00, 104.29it/s]\n"
     ]
    },
    {
     "name": "stdout",
     "output_type": "stream",
     "text": [
      "Train Loss: 0.5731, Val Loss: 0.2844, Val Accuracy: 0.9035\n",
      "\u001b[32mSaved best model with accuracy: 0.9035\u001b[0m\n",
      "\n",
      "Epoch 2/100\n"
     ]
    },
    {
     "name": "stderr",
     "output_type": "stream",
     "text": [
      "Training: 100%|██████████| 804/804 [00:16<00:00, 49.25it/s]\n",
      "Validating: 100%|██████████| 40/40 [00:00<00:00, 121.29it/s]\n"
     ]
    },
    {
     "name": "stdout",
     "output_type": "stream",
     "text": [
      "Train Loss: 0.1904, Val Loss: 0.2647, Val Accuracy: 0.9116\n",
      "\u001b[32mSaved best model with accuracy: 0.9116\u001b[0m\n",
      "\n",
      "Epoch 3/100\n"
     ]
    },
    {
     "name": "stderr",
     "output_type": "stream",
     "text": [
      "Training: 100%|██████████| 804/804 [00:16<00:00, 50.01it/s]\n",
      "Validating: 100%|██████████| 40/40 [00:00<00:00, 121.89it/s]\n"
     ]
    },
    {
     "name": "stdout",
     "output_type": "stream",
     "text": [
      "Train Loss: 0.1281, Val Loss: 0.1698, Val Accuracy: 0.9425\n",
      "\u001b[32mSaved best model with accuracy: 0.9425\u001b[0m\n",
      "\n",
      "Epoch 4/100\n"
     ]
    },
    {
     "name": "stderr",
     "output_type": "stream",
     "text": [
      "Training: 100%|██████████| 804/804 [00:14<00:00, 54.76it/s]\n",
      "Validating: 100%|██████████| 40/40 [00:00<00:00, 123.59it/s]\n"
     ]
    },
    {
     "name": "stdout",
     "output_type": "stream",
     "text": [
      "Train Loss: 0.1028, Val Loss: 0.1478, Val Accuracy: 0.9491\n",
      "\u001b[32mSaved best model with accuracy: 0.9491\u001b[0m\n",
      "\n",
      "Epoch 5/100\n"
     ]
    },
    {
     "name": "stderr",
     "output_type": "stream",
     "text": [
      "Training: 100%|██████████| 804/804 [00:15<00:00, 52.82it/s]\n",
      "Validating: 100%|██████████| 40/40 [00:00<00:00, 114.21it/s]\n"
     ]
    },
    {
     "name": "stdout",
     "output_type": "stream",
     "text": [
      "Train Loss: 0.0873, Val Loss: 0.1051, Val Accuracy: 0.9645\n",
      "\u001b[32mSaved best model with accuracy: 0.9645\u001b[0m\n",
      "\n",
      "Epoch 6/100\n"
     ]
    },
    {
     "name": "stderr",
     "output_type": "stream",
     "text": [
      "Training: 100%|██████████| 804/804 [00:14<00:00, 56.36it/s]\n",
      "Validating: 100%|██████████| 40/40 [00:00<00:00, 101.16it/s]\n"
     ]
    },
    {
     "name": "stdout",
     "output_type": "stream",
     "text": [
      "Train Loss: 0.0743, Val Loss: 0.0878, Val Accuracy: 0.9734\n",
      "\u001b[32mSaved best model with accuracy: 0.9734\u001b[0m\n",
      "\n",
      "Epoch 7/100\n"
     ]
    },
    {
     "name": "stderr",
     "output_type": "stream",
     "text": [
      "Training: 100%|██████████| 804/804 [00:14<00:00, 55.90it/s]\n",
      "Validating: 100%|██████████| 40/40 [00:00<00:00, 101.63it/s]\n"
     ]
    },
    {
     "name": "stdout",
     "output_type": "stream",
     "text": [
      "Train Loss: 0.0657, Val Loss: 0.1178, Val Accuracy: 0.9607\n",
      "\n",
      "Epoch 8/100\n"
     ]
    },
    {
     "name": "stderr",
     "output_type": "stream",
     "text": [
      "Training: 100%|██████████| 804/804 [00:14<00:00, 56.68it/s]\n",
      "Validating: 100%|██████████| 40/40 [00:00<00:00, 121.56it/s]\n"
     ]
    },
    {
     "name": "stdout",
     "output_type": "stream",
     "text": [
      "Train Loss: 0.0582, Val Loss: 0.0965, Val Accuracy: 0.9692\n",
      "\n",
      "Epoch 9/100\n"
     ]
    },
    {
     "name": "stderr",
     "output_type": "stream",
     "text": [
      "Training: 100%|██████████| 804/804 [00:14<00:00, 56.29it/s]\n",
      "Validating: 100%|██████████| 40/40 [00:00<00:00, 112.58it/s]\n"
     ]
    },
    {
     "name": "stdout",
     "output_type": "stream",
     "text": [
      "Train Loss: 0.0516, Val Loss: 0.0931, Val Accuracy: 0.9718\n",
      "\n",
      "Epoch 10/100\n"
     ]
    },
    {
     "name": "stderr",
     "output_type": "stream",
     "text": [
      "Training: 100%|██████████| 804/804 [00:14<00:00, 56.21it/s]\n",
      "Validating: 100%|██████████| 40/40 [00:00<00:00, 100.74it/s]\n"
     ]
    },
    {
     "name": "stdout",
     "output_type": "stream",
     "text": [
      "Train Loss: 0.0482, Val Loss: 0.0776, Val Accuracy: 0.9753\n",
      "\u001b[32mSaved best model with accuracy: 0.9753\u001b[0m\n",
      "\n",
      "Epoch 11/100\n"
     ]
    },
    {
     "name": "stderr",
     "output_type": "stream",
     "text": [
      "Training: 100%|██████████| 804/804 [00:14<00:00, 55.82it/s]\n",
      "Validating: 100%|██████████| 40/40 [00:00<00:00, 118.11it/s]\n"
     ]
    },
    {
     "name": "stdout",
     "output_type": "stream",
     "text": [
      "Train Loss: 0.0421, Val Loss: 0.0700, Val Accuracy: 0.9800\n",
      "\u001b[32mSaved best model with accuracy: 0.9800\u001b[0m\n",
      "\n",
      "Epoch 12/100\n"
     ]
    },
    {
     "name": "stderr",
     "output_type": "stream",
     "text": [
      "Training: 100%|██████████| 804/804 [00:14<00:00, 55.13it/s]\n",
      "Validating: 100%|██████████| 40/40 [00:00<00:00, 96.17it/s]\n"
     ]
    },
    {
     "name": "stdout",
     "output_type": "stream",
     "text": [
      "Train Loss: 0.0389, Val Loss: 0.1010, Val Accuracy: 0.9680\n",
      "\n",
      "Epoch 13/100\n"
     ]
    },
    {
     "name": "stderr",
     "output_type": "stream",
     "text": [
      "Training: 100%|██████████| 804/804 [00:14<00:00, 55.91it/s]\n",
      "Validating: 100%|██████████| 40/40 [00:00<00:00, 114.92it/s]\n"
     ]
    },
    {
     "name": "stdout",
     "output_type": "stream",
     "text": [
      "Train Loss: 0.0357, Val Loss: 0.0856, Val Accuracy: 0.9720\n",
      "\n",
      "Epoch 14/100\n"
     ]
    },
    {
     "name": "stderr",
     "output_type": "stream",
     "text": [
      "Training: 100%|██████████| 804/804 [00:14<00:00, 56.01it/s]\n",
      "Validating: 100%|██████████| 40/40 [00:00<00:00, 101.39it/s]\n"
     ]
    },
    {
     "name": "stdout",
     "output_type": "stream",
     "text": [
      "Train Loss: 0.0344, Val Loss: 0.0825, Val Accuracy: 0.9738\n",
      "\n",
      "Epoch 15/100\n"
     ]
    },
    {
     "name": "stderr",
     "output_type": "stream",
     "text": [
      "Training: 100%|██████████| 804/804 [00:14<00:00, 56.36it/s]\n",
      "Validating: 100%|██████████| 40/40 [00:00<00:00, 121.23it/s]\n"
     ]
    },
    {
     "name": "stdout",
     "output_type": "stream",
     "text": [
      "Train Loss: 0.0309, Val Loss: 0.0670, Val Accuracy: 0.9795\n",
      "\n",
      "Epoch 16/100\n"
     ]
    },
    {
     "name": "stderr",
     "output_type": "stream",
     "text": [
      "Training: 100%|██████████| 804/804 [00:14<00:00, 56.66it/s]\n",
      "Validating: 100%|██████████| 40/40 [00:00<00:00, 121.94it/s]\n"
     ]
    },
    {
     "name": "stdout",
     "output_type": "stream",
     "text": [
      "Train Loss: 0.0287, Val Loss: 0.0727, Val Accuracy: 0.9777\n",
      "\n",
      "Epoch 17/100\n"
     ]
    },
    {
     "name": "stderr",
     "output_type": "stream",
     "text": [
      "Training: 100%|██████████| 804/804 [00:14<00:00, 56.10it/s]\n",
      "Validating: 100%|██████████| 40/40 [00:00<00:00, 121.60it/s]\n"
     ]
    },
    {
     "name": "stdout",
     "output_type": "stream",
     "text": [
      "Train Loss: 0.0268, Val Loss: 0.0660, Val Accuracy: 0.9800\n",
      "\n",
      "Epoch 18/100\n"
     ]
    },
    {
     "name": "stderr",
     "output_type": "stream",
     "text": [
      "Training: 100%|██████████| 804/804 [00:14<00:00, 56.99it/s]\n",
      "Validating: 100%|██████████| 40/40 [00:00<00:00, 120.51it/s]\n"
     ]
    },
    {
     "name": "stdout",
     "output_type": "stream",
     "text": [
      "Train Loss: 0.0261, Val Loss: 0.0499, Val Accuracy: 0.9863\n",
      "\u001b[32mSaved best model with accuracy: 0.9863\u001b[0m\n",
      "\n",
      "Epoch 19/100\n"
     ]
    },
    {
     "name": "stderr",
     "output_type": "stream",
     "text": [
      "Training: 100%|██████████| 804/804 [00:14<00:00, 54.55it/s]\n",
      "Validating: 100%|██████████| 40/40 [00:00<00:00, 96.52it/s]\n"
     ]
    },
    {
     "name": "stdout",
     "output_type": "stream",
     "text": [
      "Train Loss: 0.0238, Val Loss: 0.0566, Val Accuracy: 0.9838\n",
      "\n",
      "Epoch 20/100\n"
     ]
    },
    {
     "name": "stderr",
     "output_type": "stream",
     "text": [
      "Training: 100%|██████████| 804/804 [00:15<00:00, 52.99it/s]\n",
      "Validating: 100%|██████████| 40/40 [00:00<00:00, 121.79it/s]\n"
     ]
    },
    {
     "name": "stdout",
     "output_type": "stream",
     "text": [
      "Train Loss: 0.0226, Val Loss: 0.0797, Val Accuracy: 0.9756\n",
      "\n",
      "Epoch 21/100\n"
     ]
    },
    {
     "name": "stderr",
     "output_type": "stream",
     "text": [
      "Training: 100%|██████████| 804/804 [00:14<00:00, 56.08it/s]\n",
      "Validating: 100%|██████████| 40/40 [00:00<00:00, 118.89it/s]\n"
     ]
    },
    {
     "name": "stdout",
     "output_type": "stream",
     "text": [
      "Train Loss: 0.0220, Val Loss: 0.0723, Val Accuracy: 0.9782\n",
      "\n",
      "Epoch 22/100\n"
     ]
    },
    {
     "name": "stderr",
     "output_type": "stream",
     "text": [
      "Training: 100%|██████████| 804/804 [00:14<00:00, 56.35it/s]\n",
      "Validating: 100%|██████████| 40/40 [00:00<00:00, 120.68it/s]\n"
     ]
    },
    {
     "name": "stdout",
     "output_type": "stream",
     "text": [
      "Train Loss: 0.0198, Val Loss: 0.0599, Val Accuracy: 0.9822\n",
      "\n",
      "Epoch 23/100\n"
     ]
    },
    {
     "name": "stderr",
     "output_type": "stream",
     "text": [
      "Training: 100%|██████████| 804/804 [00:14<00:00, 57.25it/s]\n",
      "Validating: 100%|██████████| 40/40 [00:00<00:00, 120.16it/s]\n"
     ]
    },
    {
     "name": "stdout",
     "output_type": "stream",
     "text": [
      "Train Loss: 0.0190, Val Loss: 0.0578, Val Accuracy: 0.9828\n",
      "\n",
      "Epoch 24/100\n"
     ]
    },
    {
     "name": "stderr",
     "output_type": "stream",
     "text": [
      "Training: 100%|██████████| 804/804 [00:14<00:00, 56.21it/s]\n",
      "Validating: 100%|██████████| 40/40 [00:00<00:00, 104.51it/s]\n"
     ]
    },
    {
     "name": "stdout",
     "output_type": "stream",
     "text": [
      "Train Loss: 0.0184, Val Loss: 0.0574, Val Accuracy: 0.9840\n",
      "\n",
      "Epoch 25/100\n"
     ]
    },
    {
     "name": "stderr",
     "output_type": "stream",
     "text": [
      "Training: 100%|██████████| 804/804 [00:14<00:00, 54.88it/s]\n",
      "Validating: 100%|██████████| 40/40 [00:00<00:00, 114.82it/s]\n"
     ]
    },
    {
     "name": "stdout",
     "output_type": "stream",
     "text": [
      "Train Loss: 0.0172, Val Loss: 0.0681, Val Accuracy: 0.9800\n",
      "\n",
      "Epoch 26/100\n"
     ]
    },
    {
     "name": "stderr",
     "output_type": "stream",
     "text": [
      "Training: 100%|██████████| 804/804 [00:14<00:00, 54.80it/s]\n",
      "Validating: 100%|██████████| 40/40 [00:00<00:00, 120.29it/s]\n"
     ]
    },
    {
     "name": "stdout",
     "output_type": "stream",
     "text": [
      "Train Loss: 0.0164, Val Loss: 0.0587, Val Accuracy: 0.9831\n",
      "\n",
      "Epoch 27/100\n"
     ]
    },
    {
     "name": "stderr",
     "output_type": "stream",
     "text": [
      "Training: 100%|██████████| 804/804 [00:14<00:00, 56.25it/s]\n",
      "Validating: 100%|██████████| 40/40 [00:00<00:00, 121.23it/s]\n"
     ]
    },
    {
     "name": "stdout",
     "output_type": "stream",
     "text": [
      "Train Loss: 0.0150, Val Loss: 0.0825, Val Accuracy: 0.9763\n",
      "\n",
      "Epoch 28/100\n"
     ]
    },
    {
     "name": "stderr",
     "output_type": "stream",
     "text": [
      "Training: 100%|██████████| 804/804 [00:14<00:00, 56.88it/s]\n",
      "Validating: 100%|██████████| 40/40 [00:00<00:00, 121.93it/s]\n"
     ]
    },
    {
     "name": "stdout",
     "output_type": "stream",
     "text": [
      "Train Loss: 0.0138, Val Loss: 0.0691, Val Accuracy: 0.9812\n",
      "\n",
      "Epoch 29/100\n"
     ]
    },
    {
     "name": "stderr",
     "output_type": "stream",
     "text": [
      "Training: 100%|██████████| 804/804 [00:14<00:00, 55.27it/s]\n",
      "Validating: 100%|██████████| 40/40 [00:00<00:00, 119.91it/s]\n"
     ]
    },
    {
     "name": "stdout",
     "output_type": "stream",
     "text": [
      "Train Loss: 0.0140, Val Loss: 0.0557, Val Accuracy: 0.9863\n",
      "\n",
      "Epoch 30/100\n"
     ]
    },
    {
     "name": "stderr",
     "output_type": "stream",
     "text": [
      "Training: 100%|██████████| 804/804 [00:14<00:00, 55.94it/s]\n",
      "Validating: 100%|██████████| 40/40 [00:00<00:00, 118.08it/s]\n"
     ]
    },
    {
     "name": "stdout",
     "output_type": "stream",
     "text": [
      "Train Loss: 0.0126, Val Loss: 0.0532, Val Accuracy: 0.9856\n",
      "\n",
      "Epoch 31/100\n"
     ]
    },
    {
     "name": "stderr",
     "output_type": "stream",
     "text": [
      "Training: 100%|██████████| 804/804 [00:14<00:00, 56.56it/s]\n",
      "Validating: 100%|██████████| 40/40 [00:00<00:00, 121.87it/s]\n"
     ]
    },
    {
     "name": "stdout",
     "output_type": "stream",
     "text": [
      "Train Loss: 0.0129, Val Loss: 0.0494, Val Accuracy: 0.9865\n",
      "\u001b[32mSaved best model with accuracy: 0.9865\u001b[0m\n",
      "\n",
      "Epoch 32/100\n"
     ]
    },
    {
     "name": "stderr",
     "output_type": "stream",
     "text": [
      "Training: 100%|██████████| 804/804 [00:14<00:00, 56.07it/s]\n",
      "Validating: 100%|██████████| 40/40 [00:00<00:00, 106.14it/s]\n"
     ]
    },
    {
     "name": "stdout",
     "output_type": "stream",
     "text": [
      "Train Loss: 0.0114, Val Loss: 0.0595, Val Accuracy: 0.9858\n",
      "\n",
      "Epoch 33/100\n"
     ]
    },
    {
     "name": "stderr",
     "output_type": "stream",
     "text": [
      "Training: 100%|██████████| 804/804 [00:14<00:00, 56.15it/s]\n",
      "Validating: 100%|██████████| 40/40 [00:00<00:00, 98.16it/s]\n"
     ]
    },
    {
     "name": "stdout",
     "output_type": "stream",
     "text": [
      "Train Loss: 0.0113, Val Loss: 0.0519, Val Accuracy: 0.9875\n",
      "\u001b[32mSaved best model with accuracy: 0.9875\u001b[0m\n",
      "\n",
      "Epoch 34/100\n"
     ]
    },
    {
     "name": "stderr",
     "output_type": "stream",
     "text": [
      "Training: 100%|██████████| 804/804 [00:14<00:00, 56.40it/s]\n",
      "Validating: 100%|██████████| 40/40 [00:00<00:00, 121.95it/s]\n"
     ]
    },
    {
     "name": "stdout",
     "output_type": "stream",
     "text": [
      "Train Loss: 0.0104, Val Loss: 0.0764, Val Accuracy: 0.9840\n",
      "\n",
      "Epoch 35/100\n"
     ]
    },
    {
     "name": "stderr",
     "output_type": "stream",
     "text": [
      "Training: 100%|██████████| 804/804 [00:14<00:00, 56.56it/s]\n",
      "Validating: 100%|██████████| 40/40 [00:00<00:00, 124.75it/s]\n"
     ]
    },
    {
     "name": "stdout",
     "output_type": "stream",
     "text": [
      "Train Loss: 0.0101, Val Loss: 0.0560, Val Accuracy: 0.9872\n",
      "\n",
      "Epoch 36/100\n"
     ]
    },
    {
     "name": "stderr",
     "output_type": "stream",
     "text": [
      "Training: 100%|██████████| 804/804 [00:14<00:00, 56.91it/s]\n",
      "Validating: 100%|██████████| 40/40 [00:00<00:00, 122.18it/s]\n"
     ]
    },
    {
     "name": "stdout",
     "output_type": "stream",
     "text": [
      "Train Loss: 0.0098, Val Loss: 0.0582, Val Accuracy: 0.9856\n",
      "\n",
      "Epoch 37/100\n"
     ]
    },
    {
     "name": "stderr",
     "output_type": "stream",
     "text": [
      "Training: 100%|██████████| 804/804 [00:14<00:00, 56.36it/s]\n",
      "Validating: 100%|██████████| 40/40 [00:00<00:00, 121.59it/s]\n"
     ]
    },
    {
     "name": "stdout",
     "output_type": "stream",
     "text": [
      "Train Loss: 0.0083, Val Loss: 0.0566, Val Accuracy: 0.9880\n",
      "\u001b[32mSaved best model with accuracy: 0.9880\u001b[0m\n",
      "\n",
      "Epoch 38/100\n"
     ]
    },
    {
     "name": "stderr",
     "output_type": "stream",
     "text": [
      "Training: 100%|██████████| 804/804 [00:14<00:00, 55.48it/s]\n",
      "Validating: 100%|██████████| 40/40 [00:00<00:00, 121.53it/s]\n"
     ]
    },
    {
     "name": "stdout",
     "output_type": "stream",
     "text": [
      "Train Loss: 0.0088, Val Loss: 0.0562, Val Accuracy: 0.9868\n",
      "\n",
      "Epoch 39/100\n"
     ]
    },
    {
     "name": "stderr",
     "output_type": "stream",
     "text": [
      "Training: 100%|██████████| 804/804 [00:14<00:00, 56.29it/s]\n",
      "Validating: 100%|██████████| 40/40 [00:00<00:00, 119.85it/s]\n"
     ]
    },
    {
     "name": "stdout",
     "output_type": "stream",
     "text": [
      "Train Loss: 0.0081, Val Loss: 0.0552, Val Accuracy: 0.9881\n",
      "\u001b[32mSaved best model with accuracy: 0.9881\u001b[0m\n",
      "\n",
      "Epoch 40/100\n"
     ]
    },
    {
     "name": "stderr",
     "output_type": "stream",
     "text": [
      "Training: 100%|██████████| 804/804 [00:14<00:00, 56.26it/s]\n",
      "Validating: 100%|██████████| 40/40 [00:00<00:00, 122.10it/s]\n"
     ]
    },
    {
     "name": "stdout",
     "output_type": "stream",
     "text": [
      "Train Loss: 0.0075, Val Loss: 0.0534, Val Accuracy: 0.9887\n",
      "\u001b[32mSaved best model with accuracy: 0.9887\u001b[0m\n",
      "\n",
      "Epoch 41/100\n"
     ]
    },
    {
     "name": "stderr",
     "output_type": "stream",
     "text": [
      "Training: 100%|██████████| 804/804 [00:14<00:00, 56.69it/s]\n",
      "Validating: 100%|██████████| 40/40 [00:00<00:00, 124.07it/s]\n"
     ]
    },
    {
     "name": "stdout",
     "output_type": "stream",
     "text": [
      "Train Loss: 0.0076, Val Loss: 0.0478, Val Accuracy: 0.9900\n",
      "\u001b[32mSaved best model with accuracy: 0.9900\u001b[0m\n",
      "\n",
      "Epoch 42/100\n"
     ]
    },
    {
     "name": "stderr",
     "output_type": "stream",
     "text": [
      "Training: 100%|██████████| 804/804 [00:14<00:00, 56.09it/s]\n",
      "Validating: 100%|██████████| 40/40 [00:00<00:00, 121.99it/s]\n"
     ]
    },
    {
     "name": "stdout",
     "output_type": "stream",
     "text": [
      "Train Loss: 0.0065, Val Loss: 0.0652, Val Accuracy: 0.9877\n",
      "\n",
      "Epoch 43/100\n"
     ]
    },
    {
     "name": "stderr",
     "output_type": "stream",
     "text": [
      "Training: 100%|██████████| 804/804 [00:14<00:00, 56.67it/s]\n",
      "Validating: 100%|██████████| 40/40 [00:00<00:00, 84.60it/s] \n"
     ]
    },
    {
     "name": "stdout",
     "output_type": "stream",
     "text": [
      "Train Loss: 0.0072, Val Loss: 0.0536, Val Accuracy: 0.9879\n",
      "\n",
      "Epoch 44/100\n"
     ]
    },
    {
     "name": "stderr",
     "output_type": "stream",
     "text": [
      "Training: 100%|██████████| 804/804 [00:14<00:00, 56.57it/s]\n",
      "Validating: 100%|██████████| 40/40 [00:00<00:00, 121.80it/s]\n"
     ]
    },
    {
     "name": "stdout",
     "output_type": "stream",
     "text": [
      "Train Loss: 0.0067, Val Loss: 0.0528, Val Accuracy: 0.9892\n",
      "\n",
      "Epoch 45/100\n"
     ]
    },
    {
     "name": "stderr",
     "output_type": "stream",
     "text": [
      "Training: 100%|██████████| 804/804 [00:14<00:00, 56.07it/s]\n",
      "Validating: 100%|██████████| 40/40 [00:00<00:00, 126.56it/s]\n"
     ]
    },
    {
     "name": "stdout",
     "output_type": "stream",
     "text": [
      "Train Loss: 0.0057, Val Loss: 0.0608, Val Accuracy: 0.9866\n",
      "\n",
      "Epoch 46/100\n"
     ]
    },
    {
     "name": "stderr",
     "output_type": "stream",
     "text": [
      "Training: 100%|██████████| 804/804 [00:14<00:00, 56.78it/s]\n",
      "Validating: 100%|██████████| 40/40 [00:00<00:00, 122.35it/s]\n"
     ]
    },
    {
     "name": "stdout",
     "output_type": "stream",
     "text": [
      "Train Loss: 0.0054, Val Loss: 0.0579, Val Accuracy: 0.9884\n",
      "\n",
      "Epoch 47/100\n"
     ]
    },
    {
     "name": "stderr",
     "output_type": "stream",
     "text": [
      "Training: 100%|██████████| 804/804 [00:14<00:00, 55.98it/s]\n",
      "Validating: 100%|██████████| 40/40 [00:00<00:00, 85.72it/s]\n"
     ]
    },
    {
     "name": "stdout",
     "output_type": "stream",
     "text": [
      "Train Loss: 0.0055, Val Loss: 0.0578, Val Accuracy: 0.9892\n",
      "\n",
      "Epoch 48/100\n"
     ]
    },
    {
     "name": "stderr",
     "output_type": "stream",
     "text": [
      "Training: 100%|██████████| 804/804 [00:14<00:00, 54.76it/s]\n",
      "Validating: 100%|██████████| 40/40 [00:00<00:00, 83.10it/s]\n"
     ]
    },
    {
     "name": "stdout",
     "output_type": "stream",
     "text": [
      "Train Loss: 0.0045, Val Loss: 0.0627, Val Accuracy: 0.9870\n",
      "\n",
      "Epoch 49/100\n"
     ]
    },
    {
     "name": "stderr",
     "output_type": "stream",
     "text": [
      "Training: 100%|██████████| 804/804 [00:14<00:00, 56.61it/s]\n",
      "Validating: 100%|██████████| 40/40 [00:00<00:00, 127.12it/s]\n"
     ]
    },
    {
     "name": "stdout",
     "output_type": "stream",
     "text": [
      "Train Loss: 0.0044, Val Loss: 0.0721, Val Accuracy: 0.9844\n",
      "\n",
      "Epoch 50/100\n"
     ]
    },
    {
     "name": "stderr",
     "output_type": "stream",
     "text": [
      "Training: 100%|██████████| 804/804 [00:14<00:00, 56.37it/s]\n",
      "Validating: 100%|██████████| 40/40 [00:00<00:00, 118.05it/s]\n"
     ]
    },
    {
     "name": "stdout",
     "output_type": "stream",
     "text": [
      "Train Loss: 0.0050, Val Loss: 0.0849, Val Accuracy: 0.9842\n",
      "\n",
      "Epoch 51/100\n"
     ]
    },
    {
     "name": "stderr",
     "output_type": "stream",
     "text": [
      "Training: 100%|██████████| 804/804 [00:14<00:00, 55.87it/s]\n",
      "Validating: 100%|██████████| 40/40 [00:00<00:00, 94.93it/s]\n"
     ]
    },
    {
     "name": "stdout",
     "output_type": "stream",
     "text": [
      "Train Loss: 0.0045, Val Loss: 0.0626, Val Accuracy: 0.9881\n",
      "\n",
      "Epoch 52/100\n"
     ]
    },
    {
     "name": "stderr",
     "output_type": "stream",
     "text": [
      "Training: 100%|██████████| 804/804 [00:14<00:00, 54.14it/s]\n",
      "Validating: 100%|██████████| 40/40 [00:00<00:00, 96.36it/s]\n"
     ]
    },
    {
     "name": "stdout",
     "output_type": "stream",
     "text": [
      "Train Loss: 0.0035, Val Loss: 0.0649, Val Accuracy: 0.9863\n",
      "\n",
      "Epoch 53/100\n"
     ]
    },
    {
     "name": "stderr",
     "output_type": "stream",
     "text": [
      "Training: 100%|██████████| 804/804 [00:14<00:00, 55.52it/s]\n",
      "Validating: 100%|██████████| 40/40 [00:00<00:00, 120.27it/s]\n"
     ]
    },
    {
     "name": "stdout",
     "output_type": "stream",
     "text": [
      "Train Loss: 0.0040, Val Loss: 0.0653, Val Accuracy: 0.9885\n",
      "\n",
      "Epoch 54/100\n"
     ]
    },
    {
     "name": "stderr",
     "output_type": "stream",
     "text": [
      "Training: 100%|██████████| 804/804 [00:14<00:00, 55.65it/s]\n",
      "Validating: 100%|██████████| 40/40 [00:00<00:00, 91.94it/s] \n"
     ]
    },
    {
     "name": "stdout",
     "output_type": "stream",
     "text": [
      "Train Loss: 0.0030, Val Loss: 0.0667, Val Accuracy: 0.9883\n",
      "\n",
      "Epoch 55/100\n"
     ]
    },
    {
     "name": "stderr",
     "output_type": "stream",
     "text": [
      "Training: 100%|██████████| 804/804 [00:14<00:00, 54.05it/s]\n",
      "Validating: 100%|██████████| 40/40 [00:00<00:00, 119.86it/s]\n"
     ]
    },
    {
     "name": "stdout",
     "output_type": "stream",
     "text": [
      "Train Loss: 0.0029, Val Loss: 0.0696, Val Accuracy: 0.9878\n",
      "\n",
      "Epoch 56/100\n"
     ]
    },
    {
     "name": "stderr",
     "output_type": "stream",
     "text": [
      "Training: 100%|██████████| 804/804 [00:14<00:00, 56.78it/s]\n",
      "Validating: 100%|██████████| 40/40 [00:00<00:00, 118.78it/s]\n"
     ]
    },
    {
     "name": "stdout",
     "output_type": "stream",
     "text": [
      "Train Loss: 0.0027, Val Loss: 0.0647, Val Accuracy: 0.9889\n",
      "\n",
      "Epoch 57/100\n"
     ]
    },
    {
     "name": "stderr",
     "output_type": "stream",
     "text": [
      "Training: 100%|██████████| 804/804 [00:16<00:00, 49.68it/s]\n",
      "Validating: 100%|██████████| 40/40 [00:00<00:00, 121.04it/s]\n"
     ]
    },
    {
     "name": "stdout",
     "output_type": "stream",
     "text": [
      "Train Loss: 0.0030, Val Loss: 0.0674, Val Accuracy: 0.9886\n",
      "\n",
      "Epoch 58/100\n"
     ]
    },
    {
     "name": "stderr",
     "output_type": "stream",
     "text": [
      "Training: 100%|██████████| 804/804 [00:14<00:00, 56.06it/s]\n",
      "Validating: 100%|██████████| 40/40 [00:00<00:00, 122.10it/s]\n"
     ]
    },
    {
     "name": "stdout",
     "output_type": "stream",
     "text": [
      "Train Loss: 0.0024, Val Loss: 0.0669, Val Accuracy: 0.9883\n",
      "\n",
      "Epoch 59/100\n"
     ]
    },
    {
     "name": "stderr",
     "output_type": "stream",
     "text": [
      "Training: 100%|██████████| 804/804 [00:14<00:00, 55.84it/s]\n",
      "Validating: 100%|██████████| 40/40 [00:00<00:00, 122.00it/s]\n"
     ]
    },
    {
     "name": "stdout",
     "output_type": "stream",
     "text": [
      "Train Loss: 0.0030, Val Loss: 0.0708, Val Accuracy: 0.9881\n",
      "\n",
      "Epoch 60/100\n"
     ]
    },
    {
     "name": "stderr",
     "output_type": "stream",
     "text": [
      "Training: 100%|██████████| 804/804 [00:14<00:00, 55.91it/s]\n",
      "Validating: 100%|██████████| 40/40 [00:00<00:00, 103.19it/s]\n"
     ]
    },
    {
     "name": "stdout",
     "output_type": "stream",
     "text": [
      "Train Loss: 0.0012, Val Loss: 0.0681, Val Accuracy: 0.9900\n",
      "\n",
      "Epoch 61/100\n"
     ]
    },
    {
     "name": "stderr",
     "output_type": "stream",
     "text": [
      "Training: 100%|██████████| 804/804 [00:14<00:00, 56.75it/s]\n",
      "Validating: 100%|██████████| 40/40 [00:00<00:00, 122.27it/s]\n"
     ]
    },
    {
     "name": "stdout",
     "output_type": "stream",
     "text": [
      "Train Loss: 0.0022, Val Loss: 0.0718, Val Accuracy: 0.9894\n",
      "\n",
      "Epoch 62/100\n"
     ]
    },
    {
     "name": "stderr",
     "output_type": "stream",
     "text": [
      "Training: 100%|██████████| 804/804 [00:14<00:00, 54.70it/s]\n",
      "Validating: 100%|██████████| 40/40 [00:00<00:00, 88.91it/s]\n"
     ]
    },
    {
     "name": "stdout",
     "output_type": "stream",
     "text": [
      "Train Loss: 0.0021, Val Loss: 0.0712, Val Accuracy: 0.9886\n",
      "\n",
      "Epoch 63/100\n"
     ]
    },
    {
     "name": "stderr",
     "output_type": "stream",
     "text": [
      "Training: 100%|██████████| 804/804 [00:14<00:00, 55.55it/s]\n",
      "Validating: 100%|██████████| 40/40 [00:00<00:00, 101.10it/s]\n"
     ]
    },
    {
     "name": "stdout",
     "output_type": "stream",
     "text": [
      "Train Loss: 0.0022, Val Loss: 0.0662, Val Accuracy: 0.9898\n",
      "\n",
      "Epoch 64/100\n"
     ]
    },
    {
     "name": "stderr",
     "output_type": "stream",
     "text": [
      "Training: 100%|██████████| 804/804 [00:14<00:00, 56.99it/s]\n",
      "Validating: 100%|██████████| 40/40 [00:00<00:00, 121.59it/s]\n"
     ]
    },
    {
     "name": "stdout",
     "output_type": "stream",
     "text": [
      "Train Loss: 0.0016, Val Loss: 0.0715, Val Accuracy: 0.9892\n",
      "\n",
      "Epoch 65/100\n"
     ]
    },
    {
     "name": "stderr",
     "output_type": "stream",
     "text": [
      "Training: 100%|██████████| 804/804 [00:14<00:00, 56.47it/s]\n",
      "Validating: 100%|██████████| 40/40 [00:00<00:00, 121.94it/s]\n"
     ]
    },
    {
     "name": "stdout",
     "output_type": "stream",
     "text": [
      "Train Loss: 0.0011, Val Loss: 0.0713, Val Accuracy: 0.9901\n",
      "\u001b[32mSaved best model with accuracy: 0.9901\u001b[0m\n",
      "\n",
      "Epoch 66/100\n"
     ]
    },
    {
     "name": "stderr",
     "output_type": "stream",
     "text": [
      "Training: 100%|██████████| 804/804 [00:14<00:00, 56.75it/s]\n",
      "Validating: 100%|██████████| 40/40 [00:00<00:00, 101.97it/s]\n"
     ]
    },
    {
     "name": "stdout",
     "output_type": "stream",
     "text": [
      "Train Loss: 0.0009, Val Loss: 0.0729, Val Accuracy: 0.9895\n",
      "\n",
      "Epoch 67/100\n"
     ]
    },
    {
     "name": "stderr",
     "output_type": "stream",
     "text": [
      "Training: 100%|██████████| 804/804 [00:14<00:00, 56.03it/s]\n",
      "Validating: 100%|██████████| 40/40 [00:00<00:00, 101.74it/s]\n"
     ]
    },
    {
     "name": "stdout",
     "output_type": "stream",
     "text": [
      "Train Loss: 0.0013, Val Loss: 0.0729, Val Accuracy: 0.9896\n",
      "\n",
      "Epoch 68/100\n"
     ]
    },
    {
     "name": "stderr",
     "output_type": "stream",
     "text": [
      "Training: 100%|██████████| 804/804 [00:14<00:00, 53.80it/s]\n",
      "Validating: 100%|██████████| 40/40 [00:00<00:00, 121.32it/s]\n"
     ]
    },
    {
     "name": "stdout",
     "output_type": "stream",
     "text": [
      "Train Loss: 0.0012, Val Loss: 0.0727, Val Accuracy: 0.9897\n",
      "\n",
      "Epoch 69/100\n"
     ]
    },
    {
     "name": "stderr",
     "output_type": "stream",
     "text": [
      "Training: 100%|██████████| 804/804 [00:14<00:00, 57.01it/s]\n",
      "Validating: 100%|██████████| 40/40 [00:00<00:00, 99.86it/s]\n"
     ]
    },
    {
     "name": "stdout",
     "output_type": "stream",
     "text": [
      "Train Loss: 0.0004, Val Loss: 0.0735, Val Accuracy: 0.9907\n",
      "\u001b[32mSaved best model with accuracy: 0.9907\u001b[0m\n",
      "\n",
      "Epoch 70/100\n"
     ]
    },
    {
     "name": "stderr",
     "output_type": "stream",
     "text": [
      "Training: 100%|██████████| 804/804 [00:14<00:00, 53.97it/s]\n",
      "Validating: 100%|██████████| 40/40 [00:00<00:00, 116.29it/s]\n"
     ]
    },
    {
     "name": "stdout",
     "output_type": "stream",
     "text": [
      "Train Loss: 0.0007, Val Loss: 0.0792, Val Accuracy: 0.9893\n",
      "\n",
      "Epoch 71/100\n"
     ]
    },
    {
     "name": "stderr",
     "output_type": "stream",
     "text": [
      "Training: 100%|██████████| 804/804 [00:14<00:00, 57.13it/s]\n",
      "Validating: 100%|██████████| 40/40 [00:00<00:00, 121.36it/s]\n"
     ]
    },
    {
     "name": "stdout",
     "output_type": "stream",
     "text": [
      "Train Loss: 0.0010, Val Loss: 0.0780, Val Accuracy: 0.9886\n",
      "\n",
      "Epoch 72/100\n"
     ]
    },
    {
     "name": "stderr",
     "output_type": "stream",
     "text": [
      "Training: 100%|██████████| 804/804 [00:14<00:00, 56.18it/s]\n",
      "Validating: 100%|██████████| 40/40 [00:00<00:00, 97.93it/s]\n"
     ]
    },
    {
     "name": "stdout",
     "output_type": "stream",
     "text": [
      "Train Loss: 0.0005, Val Loss: 0.0818, Val Accuracy: 0.9880\n",
      "\n",
      "Epoch 73/100\n"
     ]
    },
    {
     "name": "stderr",
     "output_type": "stream",
     "text": [
      "Training: 100%|██████████| 804/804 [00:14<00:00, 55.46it/s]\n",
      "Validating: 100%|██████████| 40/40 [00:00<00:00, 118.95it/s]\n"
     ]
    },
    {
     "name": "stdout",
     "output_type": "stream",
     "text": [
      "Train Loss: 0.0006, Val Loss: 0.0780, Val Accuracy: 0.9902\n",
      "\n",
      "Epoch 74/100\n"
     ]
    },
    {
     "name": "stderr",
     "output_type": "stream",
     "text": [
      "Training: 100%|██████████| 804/804 [00:14<00:00, 56.74it/s]\n",
      "Validating: 100%|██████████| 40/40 [00:00<00:00, 113.45it/s]\n"
     ]
    },
    {
     "name": "stdout",
     "output_type": "stream",
     "text": [
      "Train Loss: 0.0003, Val Loss: 0.0800, Val Accuracy: 0.9908\n",
      "\u001b[32mSaved best model with accuracy: 0.9908\u001b[0m\n",
      "\n",
      "Epoch 75/100\n"
     ]
    },
    {
     "name": "stderr",
     "output_type": "stream",
     "text": [
      "Training: 100%|██████████| 804/804 [00:14<00:00, 56.05it/s]\n",
      "Validating: 100%|██████████| 40/40 [00:00<00:00, 122.38it/s]\n"
     ]
    },
    {
     "name": "stdout",
     "output_type": "stream",
     "text": [
      "Train Loss: 0.0003, Val Loss: 0.0797, Val Accuracy: 0.9901\n",
      "\n",
      "Epoch 76/100\n"
     ]
    },
    {
     "name": "stderr",
     "output_type": "stream",
     "text": [
      "Training: 100%|██████████| 804/804 [00:14<00:00, 56.62it/s]\n",
      "Validating: 100%|██████████| 40/40 [00:00<00:00, 114.67it/s]\n"
     ]
    },
    {
     "name": "stdout",
     "output_type": "stream",
     "text": [
      "Train Loss: 0.0005, Val Loss: 0.0860, Val Accuracy: 0.9905\n",
      "\n",
      "Epoch 77/100\n"
     ]
    },
    {
     "name": "stderr",
     "output_type": "stream",
     "text": [
      "Training: 100%|██████████| 804/804 [00:14<00:00, 54.01it/s]\n",
      "Validating: 100%|██████████| 40/40 [00:00<00:00, 120.02it/s]\n"
     ]
    },
    {
     "name": "stdout",
     "output_type": "stream",
     "text": [
      "Train Loss: 0.0003, Val Loss: 0.0823, Val Accuracy: 0.9901\n",
      "\n",
      "Epoch 78/100\n"
     ]
    },
    {
     "name": "stderr",
     "output_type": "stream",
     "text": [
      "Training: 100%|██████████| 804/804 [00:14<00:00, 56.04it/s]\n",
      "Validating: 100%|██████████| 40/40 [00:00<00:00, 122.13it/s]\n"
     ]
    },
    {
     "name": "stdout",
     "output_type": "stream",
     "text": [
      "Train Loss: 0.0001, Val Loss: 0.0819, Val Accuracy: 0.9898\n",
      "\n",
      "Epoch 79/100\n"
     ]
    },
    {
     "name": "stderr",
     "output_type": "stream",
     "text": [
      "Training: 100%|██████████| 804/804 [00:14<00:00, 56.79it/s]\n",
      "Validating: 100%|██████████| 40/40 [00:00<00:00, 101.04it/s]\n"
     ]
    },
    {
     "name": "stdout",
     "output_type": "stream",
     "text": [
      "Train Loss: 0.0003, Val Loss: 0.0835, Val Accuracy: 0.9905\n",
      "\n",
      "Epoch 80/100\n"
     ]
    },
    {
     "name": "stderr",
     "output_type": "stream",
     "text": [
      "Training: 100%|██████████| 804/804 [00:14<00:00, 56.08it/s]\n",
      "Validating: 100%|██████████| 40/40 [00:00<00:00, 121.62it/s]\n"
     ]
    },
    {
     "name": "stdout",
     "output_type": "stream",
     "text": [
      "Train Loss: 0.0001, Val Loss: 0.0827, Val Accuracy: 0.9894\n",
      "\n",
      "Epoch 81/100\n"
     ]
    },
    {
     "name": "stderr",
     "output_type": "stream",
     "text": [
      "Training: 100%|██████████| 804/804 [00:14<00:00, 56.64it/s]\n",
      "Validating: 100%|██████████| 40/40 [00:00<00:00, 103.25it/s]\n"
     ]
    },
    {
     "name": "stdout",
     "output_type": "stream",
     "text": [
      "Train Loss: 0.0003, Val Loss: 0.0843, Val Accuracy: 0.9900\n",
      "\n",
      "Epoch 82/100\n"
     ]
    },
    {
     "name": "stderr",
     "output_type": "stream",
     "text": [
      "Training: 100%|██████████| 804/804 [00:14<00:00, 56.07it/s]\n",
      "Validating: 100%|██████████| 40/40 [00:00<00:00, 121.95it/s]\n"
     ]
    },
    {
     "name": "stdout",
     "output_type": "stream",
     "text": [
      "Train Loss: 0.0001, Val Loss: 0.0845, Val Accuracy: 0.9900\n",
      "\n",
      "Epoch 83/100\n"
     ]
    },
    {
     "name": "stderr",
     "output_type": "stream",
     "text": [
      "Training: 100%|██████████| 804/804 [00:14<00:00, 56.11it/s]\n",
      "Validating: 100%|██████████| 40/40 [00:00<00:00, 121.28it/s]\n"
     ]
    },
    {
     "name": "stdout",
     "output_type": "stream",
     "text": [
      "Train Loss: 0.0001, Val Loss: 0.0845, Val Accuracy: 0.9907\n",
      "\n",
      "Epoch 84/100\n"
     ]
    },
    {
     "name": "stderr",
     "output_type": "stream",
     "text": [
      "Training: 100%|██████████| 804/804 [00:14<00:00, 56.94it/s]\n",
      "Validating: 100%|██████████| 40/40 [00:00<00:00, 100.26it/s]\n"
     ]
    },
    {
     "name": "stdout",
     "output_type": "stream",
     "text": [
      "Train Loss: 0.0001, Val Loss: 0.0841, Val Accuracy: 0.9902\n",
      "\n",
      "Epoch 85/100\n"
     ]
    },
    {
     "name": "stderr",
     "output_type": "stream",
     "text": [
      "Training: 100%|██████████| 804/804 [00:14<00:00, 56.10it/s]\n",
      "Validating: 100%|██████████| 40/40 [00:00<00:00, 119.27it/s]\n"
     ]
    },
    {
     "name": "stdout",
     "output_type": "stream",
     "text": [
      "Train Loss: 0.0001, Val Loss: 0.0860, Val Accuracy: 0.9901\n",
      "\n",
      "Epoch 86/100\n"
     ]
    },
    {
     "name": "stderr",
     "output_type": "stream",
     "text": [
      "Training: 100%|██████████| 804/804 [00:14<00:00, 55.54it/s]\n",
      "Validating: 100%|██████████| 40/40 [00:00<00:00, 118.62it/s]\n"
     ]
    },
    {
     "name": "stdout",
     "output_type": "stream",
     "text": [
      "Train Loss: 0.0000, Val Loss: 0.0861, Val Accuracy: 0.9902\n",
      "\n",
      "Epoch 87/100\n"
     ]
    },
    {
     "name": "stderr",
     "output_type": "stream",
     "text": [
      "Training: 100%|██████████| 804/804 [00:14<00:00, 55.87it/s]\n",
      "Validating: 100%|██████████| 40/40 [00:00<00:00, 119.41it/s]\n"
     ]
    },
    {
     "name": "stdout",
     "output_type": "stream",
     "text": [
      "Train Loss: 0.0000, Val Loss: 0.0880, Val Accuracy: 0.9900\n",
      "\n",
      "Epoch 88/100\n"
     ]
    },
    {
     "name": "stderr",
     "output_type": "stream",
     "text": [
      "Training: 100%|██████████| 804/804 [00:14<00:00, 56.42it/s]\n",
      "Validating: 100%|██████████| 40/40 [00:00<00:00, 122.00it/s]\n"
     ]
    },
    {
     "name": "stdout",
     "output_type": "stream",
     "text": [
      "Train Loss: 0.0000, Val Loss: 0.0882, Val Accuracy: 0.9904\n",
      "\n",
      "Epoch 89/100\n"
     ]
    },
    {
     "name": "stderr",
     "output_type": "stream",
     "text": [
      "Training: 100%|██████████| 804/804 [00:14<00:00, 57.17it/s]\n",
      "Validating: 100%|██████████| 40/40 [00:00<00:00, 101.81it/s]\n"
     ]
    },
    {
     "name": "stdout",
     "output_type": "stream",
     "text": [
      "Train Loss: 0.0000, Val Loss: 0.0896, Val Accuracy: 0.9901\n",
      "\n",
      "Epoch 90/100\n"
     ]
    },
    {
     "name": "stderr",
     "output_type": "stream",
     "text": [
      "Training: 100%|██████████| 804/804 [00:14<00:00, 56.13it/s]\n",
      "Validating: 100%|██████████| 40/40 [00:00<00:00, 121.86it/s]\n"
     ]
    },
    {
     "name": "stdout",
     "output_type": "stream",
     "text": [
      "Train Loss: 0.0000, Val Loss: 0.0890, Val Accuracy: 0.9905\n",
      "\n",
      "Epoch 91/100\n"
     ]
    },
    {
     "name": "stderr",
     "output_type": "stream",
     "text": [
      "Training: 100%|██████████| 804/804 [00:14<00:00, 57.10it/s]\n",
      "Validating: 100%|██████████| 40/40 [00:00<00:00, 83.06it/s] \n"
     ]
    },
    {
     "name": "stdout",
     "output_type": "stream",
     "text": [
      "Train Loss: 0.0000, Val Loss: 0.0909, Val Accuracy: 0.9900\n",
      "\n",
      "Epoch 92/100\n"
     ]
    },
    {
     "name": "stderr",
     "output_type": "stream",
     "text": [
      "Training: 100%|██████████| 804/804 [00:14<00:00, 56.95it/s]\n",
      "Validating: 100%|██████████| 40/40 [00:00<00:00, 121.59it/s]\n"
     ]
    },
    {
     "name": "stdout",
     "output_type": "stream",
     "text": [
      "Train Loss: 0.0000, Val Loss: 0.0907, Val Accuracy: 0.9901\n",
      "\n",
      "Epoch 93/100\n"
     ]
    },
    {
     "name": "stderr",
     "output_type": "stream",
     "text": [
      "Training: 100%|██████████| 804/804 [00:14<00:00, 56.56it/s]\n",
      "Validating: 100%|██████████| 40/40 [00:00<00:00, 121.98it/s]\n"
     ]
    },
    {
     "name": "stdout",
     "output_type": "stream",
     "text": [
      "Train Loss: 0.0000, Val Loss: 0.0914, Val Accuracy: 0.9901\n",
      "\n",
      "Epoch 94/100\n"
     ]
    },
    {
     "name": "stderr",
     "output_type": "stream",
     "text": [
      "Training: 100%|██████████| 804/804 [00:14<00:00, 56.61it/s]\n",
      "Validating: 100%|██████████| 40/40 [00:00<00:00, 107.47it/s]\n"
     ]
    },
    {
     "name": "stdout",
     "output_type": "stream",
     "text": [
      "Train Loss: 0.0000, Val Loss: 0.0920, Val Accuracy: 0.9902\n",
      "\n",
      "Epoch 95/100\n"
     ]
    },
    {
     "name": "stderr",
     "output_type": "stream",
     "text": [
      "Training: 100%|██████████| 804/804 [00:14<00:00, 56.22it/s]\n",
      "Validating: 100%|██████████| 40/40 [00:00<00:00, 101.79it/s]\n"
     ]
    },
    {
     "name": "stdout",
     "output_type": "stream",
     "text": [
      "Train Loss: 0.0000, Val Loss: 0.0924, Val Accuracy: 0.9902\n",
      "\n",
      "Epoch 96/100\n"
     ]
    },
    {
     "name": "stderr",
     "output_type": "stream",
     "text": [
      "Training: 100%|██████████| 804/804 [00:14<00:00, 56.08it/s]\n",
      "Validating: 100%|██████████| 40/40 [00:00<00:00, 103.54it/s]\n"
     ]
    },
    {
     "name": "stdout",
     "output_type": "stream",
     "text": [
      "Train Loss: 0.0000, Val Loss: 0.0924, Val Accuracy: 0.9902\n",
      "\n",
      "Epoch 97/100\n"
     ]
    },
    {
     "name": "stderr",
     "output_type": "stream",
     "text": [
      "Training: 100%|██████████| 804/804 [00:14<00:00, 56.39it/s]\n",
      "Validating: 100%|██████████| 40/40 [00:00<00:00, 100.46it/s]\n"
     ]
    },
    {
     "name": "stdout",
     "output_type": "stream",
     "text": [
      "Train Loss: 0.0000, Val Loss: 0.0927, Val Accuracy: 0.9902\n",
      "\n",
      "Epoch 98/100\n"
     ]
    },
    {
     "name": "stderr",
     "output_type": "stream",
     "text": [
      "Training: 100%|██████████| 804/804 [00:14<00:00, 56.36it/s]\n",
      "Validating: 100%|██████████| 40/40 [00:00<00:00, 121.57it/s]\n"
     ]
    },
    {
     "name": "stdout",
     "output_type": "stream",
     "text": [
      "Train Loss: 0.0000, Val Loss: 0.0926, Val Accuracy: 0.9902\n",
      "\n",
      "Epoch 99/100\n"
     ]
    },
    {
     "name": "stderr",
     "output_type": "stream",
     "text": [
      "Training: 100%|██████████| 804/804 [00:14<00:00, 56.77it/s]\n",
      "Validating: 100%|██████████| 40/40 [00:00<00:00, 114.14it/s]\n"
     ]
    },
    {
     "name": "stdout",
     "output_type": "stream",
     "text": [
      "Train Loss: 0.0000, Val Loss: 0.0927, Val Accuracy: 0.9902\n",
      "\n",
      "Epoch 100/100\n"
     ]
    },
    {
     "name": "stderr",
     "output_type": "stream",
     "text": [
      "Training: 100%|██████████| 804/804 [00:14<00:00, 56.03it/s]\n",
      "Validating: 100%|██████████| 40/40 [00:00<00:00, 121.81it/s]"
     ]
    },
    {
     "name": "stdout",
     "output_type": "stream",
     "text": [
      "Train Loss: 0.0000, Val Loss: 0.0927, Val Accuracy: 0.9902\n",
      "\n"
     ]
    },
    {
     "name": "stderr",
     "output_type": "stream",
     "text": [
      "\n"
     ]
    }
   ],
   "source": [
    "\n",
    "# clean gpu cache\n",
    "gc.collect()\n",
    "torch.cuda.empty_cache()\n",
    "\n",
    "# hyper\n",
    "num_classes = 4\n",
    "input_dim = 205  # max length of the signal\n",
    "hidden_dim = 128\n",
    "output_dim = num_classes\n",
    "num_layers = 1 # for rnn\n",
    "dropout = 0.3\n",
    "lr = 5e-4\n",
    "\n",
    "criterion = nn.CrossEntropyLoss()\n",
    "\n",
    "model = HeartbeatModel(input_size=input_dim, num_classes=output_dim, num_layers=num_layers, dropout=dropout)\n",
    "model.to(device)\n",
    "\n",
    "optimizer = optim.Adam(model.parameters(), lr=lr)\n",
    "total_steps = len(train_loader) * num_epochs\n",
    "scheduler = optim.lr_scheduler.CosineAnnealingLR(optimizer, T_max=total_steps)\n",
    "\n",
    "def train_model(model, train_loader, val_loader, criterion, optimizer, num_epochs):\n",
    "    if not if_train:\n",
    "        return None\n",
    "    \n",
    "    model.to(device)\n",
    "    best_accuracy = 0.0\n",
    "    \n",
    "    # save info for visualization\n",
    "    train_losses = []\n",
    "    val_losses = []\n",
    "    val_accuracies = []\n",
    "    best_epochs = [] # record the epoch when the model is saved\n",
    "\n",
    "    for epoch in range(num_epochs):\n",
    "        print(f'Epoch {epoch+1}/{num_epochs}')\n",
    "        model.train()\n",
    "        running_loss = 0.0\n",
    "\n",
    "        # training\n",
    "        for batch in tqdm(train_loader, desc=f\"Training\"):\n",
    "            signals, labels = batch\n",
    "            signals, labels = signals.to(device), labels.to(device)\n",
    "\n",
    "            optimizer.zero_grad()\n",
    "            outputs = model(signals)\n",
    "            loss = criterion(outputs, labels)\n",
    "            loss.backward()\n",
    "            optimizer.step()\n",
    "            scheduler.step()\n",
    "\n",
    "            running_loss += loss.item()\n",
    "\n",
    "        # record train loss\n",
    "        avg_train_loss = running_loss / len(train_loader)\n",
    "        train_losses.append(avg_train_loss)\n",
    "        \n",
    "        # validation\n",
    "        model.eval()\n",
    "        val_loss = 0.0\n",
    "        correct = 0\n",
    "        total = 0\n",
    "\n",
    "        with torch.no_grad():\n",
    "            for batch in tqdm(val_loader, desc=f\"Validating\"):\n",
    "                signals, labels = batch\n",
    "                signals, labels = signals.to(device), labels.to(device)\n",
    "\n",
    "                outputs = model(signals)\n",
    "                loss = criterion(outputs, labels)\n",
    "                val_loss += loss.item()\n",
    "\n",
    "                _, pred = torch.max(outputs, 1)\n",
    "                total += labels.size(0)\n",
    "                correct += (pred == labels).sum().item()\n",
    "        \n",
    "        # record train loss and acc\n",
    "        avg_val_loss = val_loss / len(val_loader)\n",
    "        val_accuracy = correct / total\n",
    "        val_losses.append(avg_val_loss)\n",
    "        val_accuracies.append(val_accuracy)\n",
    "        \n",
    "        print(f\"Train Loss: {avg_train_loss:.4f}, \"\n",
    "              f\"Val Loss: {avg_val_loss:.4f}, Val Accuracy: {val_accuracy:.4f}\")\n",
    "\n",
    "        # save the best model\n",
    "        if val_accuracy > best_accuracy:\n",
    "            best_accuracy = val_accuracy\n",
    "            torch.save(model.state_dict(), model_save_path)\n",
    "            print(Fore.GREEN + f\"Saved best model with accuracy: {best_accuracy:.4f}\" + Style.RESET_ALL)\n",
    "            best_epochs.append(epoch + 1)\n",
    "            \n",
    "        print()\n",
    "        \n",
    "    return train_losses, val_losses, val_accuracies, best_epochs\n",
    "\n",
    "\n",
    "# Training\n",
    "train_losses, val_losses, val_accuracies, best_epochs = train_model(\n",
    "    model, train_loader, val_loader, criterion, optimizer, num_epochs)"
   ]
  },
  {
   "cell_type": "markdown",
   "id": "d5632b0e",
   "metadata": {},
   "source": [
    "## Visualization"
   ]
  },
  {
   "cell_type": "code",
   "execution_count": 27,
   "id": "b5688c2e",
   "metadata": {},
   "outputs": [
    {
     "data": {
      "image/png": "[encoded data removed]",
      "text/plain": [
       "<Figure size 1000x500 with 1 Axes>"
      ]
     },
     "metadata": {},
     "output_type": "display_data"
    },
    {
     "data": {
      "image/png": "[encoded data removed]",
      "text/plain": [
       "<Figure size 1000x500 with 1 Axes>"
      ]
     },
     "metadata": {},
     "output_type": "display_data"
    }
   ],
   "source": [
    "if if_train:\n",
    "    # x-axis\n",
    "    epochs = range(1, num_epochs + 1)\n",
    "\n",
    "    # train and val loss\n",
    "    plt.figure(figsize=(10, 5))\n",
    "    plt.plot(epochs, train_losses, label=\"Train Loss\")\n",
    "    plt.plot(epochs, val_losses, label=\"Validation Loss\")\n",
    "    plt.scatter(best_epochs, [val_losses[epoch-1] for epoch in best_epochs], \n",
    "                color='red', label=\"Best Model So Far\", zorder=5)\n",
    "    plt.xlabel(\"Epochs\")\n",
    "    plt.ylabel(\"Loss\")\n",
    "    plt.title(\"Train and Validation Loss\")\n",
    "    plt.legend()\n",
    "    plt.grid(linestyle=\"--\", alpha=0.6)\n",
    "    plt.tight_layout()\n",
    "    plt.show()\n",
    "\n",
    "    # val accuracy\n",
    "    plt.figure(figsize=(10, 5))\n",
    "    plt.plot(epochs, val_accuracies, label=\"Validation Accuracy\")\n",
    "    plt.scatter(best_epochs, [val_accuracies[epoch-1] for epoch in best_epochs], \n",
    "                color='red', label=\"Best Model So Far\", zorder=5)\n",
    "    plt.xlabel(\"Epochs\")\n",
    "    plt.ylabel(\"Accuracy\")\n",
    "    plt.title(\"Validation Accuracy\")\n",
    "    plt.legend()\n",
    "    plt.grid(linestyle=\"--\", alpha=0.6)\n",
    "    plt.tight_layout()\n",
    "    plt.show()"
   ]
  },
  {
   "cell_type": "markdown",
   "id": "bffbb9f0bb84670a",
   "metadata": {},
   "source": [
    "## Prediction"
   ]
  },
  {
   "cell_type": "code",
   "execution_count": 28,
   "id": "69f99c86f6ede758",
   "metadata": {
    "ExecuteTime": {
     "end_time": "2024-11-29T03:30:11.439452Z",
     "start_time": "2024-11-20T18:36:12.392837Z"
    }
   },
   "outputs": [
    {
     "name": "stderr",
     "output_type": "stream",
     "text": [
      "/tmp/ipykernel_1907845/1477287630.py:2: FutureWarning: You are using `torch.load` with `weights_only=False` (the current default value), which uses the default pickle module implicitly. It is possible to construct malicious pickle data which will execute arbitrary code during unpickling (See https://github.com/pytorch/pytorch/blob/main/SECURITY.md#untrusted-models for more details). In a future release, the default value for `weights_only` will be flipped to `True`. This limits the functions that could be executed during unpickling. Arbitrary objects will no longer be allowed to be loaded via this mode unless they are explicitly allowlisted by the user via `torch.serialization.add_safe_globals`. We recommend you start setting `weights_only=True` for any use case where you don't have full control of the loaded file. Please open an issue on GitHub for any issues related to this experimental feature.\n",
      "  model.load_state_dict(torch.load(\"best_heartbeat_model.pth\"))\n"
     ]
    },
    {
     "name": "stdout",
     "output_type": "stream",
     "text": [
      "Test Loss: 0.0848\n",
      "Test Accuracy: 98.99%\n",
      "Average abs-sum: 0.0205\n",
      "Total abs-sum: 410.2\n"
     ]
    }
   ],
   "source": [
    "model = HeartbeatModel(input_dim, num_classes, num_layers, dropout)\n",
    "model.load_state_dict(torch.load(\"best_heartbeat_model.pth\"))\n",
    "model.to(device)\n",
    "\n",
    "def test_model(model, test_loader, criterion):\n",
    "    model.eval()\n",
    "    test_loss = 0.0\n",
    "    all_preds = []\n",
    "    all_labels = []\n",
    "    abs_sum_total = 0.0\n",
    "    sample_num = 0\n",
    "\n",
    "    with torch.no_grad():\n",
    "        for batch in test_loader:\n",
    "            signals, labels = batch\n",
    "            signals, labels = signals.to(device), labels.to(device)\n",
    "\n",
    "            outputs = model(signals) # outputs before softmax\n",
    "            loss = criterion(outputs, labels)\n",
    "            test_loss += loss.item()\n",
    "\n",
    "            probs = torch.softmax(outputs, dim=1)\n",
    "            preds = torch.argmax(probs, dim=1)\n",
    "\n",
    "            all_preds.extend(preds.cpu().numpy())\n",
    "            all_labels.extend(labels.cpu().numpy())\n",
    "\n",
    "            # One-hot of true label\n",
    "            labels_one_hot = torch.nn.functional.one_hot(labels, num_classes=num_classes).float()\n",
    "\n",
    "            # abs-sum\n",
    "            abs_sum_batch = torch.sum(torch.abs(labels_one_hot - probs))\n",
    "            abs_sum_total += abs_sum_batch.item()\n",
    "            sample_num += labels.size(0)\n",
    "\n",
    "    abs_sum_avg = abs_sum_total / sample_num\n",
    "    abs_sum = abs_sum_avg * 20000 # simulate sample.csv\n",
    "    accuracy = accuracy_score(all_labels, all_preds)\n",
    "    \n",
    "    print(f'Test Loss: {test_loss / len(test_loader):.4f}')\n",
    "    print(f'Test Accuracy: {accuracy * 100:.2f}%')\n",
    "    \n",
    "    print(f'Average abs-sum: {abs_sum_avg:.4f}')\n",
    "    print(f'Total abs-sum: {abs_sum:.1f}')\n",
    "\n",
    "test_model(model, test_loader, criterion)"
   ]
  }
 ],
 "metadata": {
  "kernelspec": {
   "display_name": "lg",
   "language": "python",
   "name": "python3"
  },
  "language_info": {
   "codemirror_mode": {
    "name": "ipython",
    "version": 3
   },
   "file_extension": ".py",
   "mimetype": "text/x-python",
   "name": "python",
   "nbconvert_exporter": "python",
   "pygments_lexer": "ipython3",
   "version": "3.8.19"
  }
 },
 "nbformat": 4,
 "nbformat_minor": 5
}
